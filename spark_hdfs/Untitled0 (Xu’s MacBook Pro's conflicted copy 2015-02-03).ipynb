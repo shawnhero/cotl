{
 "metadata": {
  "name": "",
  "signature": "sha256:27cff24497a89b3308ea6d7a50b5e31eda835793970a8397076f56a9a24c85b6"
 },
 "nbformat": 3,
 "nbformat_minor": 0,
 "worksheets": [
  {
   "cells": [
    {
     "cell_type": "code",
     "collapsed": false,
     "input": [
      "import time\n",
      "from datetime import datetime"
     ],
     "language": "python",
     "metadata": {},
     "outputs": [],
     "prompt_number": 1
    },
    {
     "cell_type": "code",
     "collapsed": false,
     "input": [
      "def files_to_read():\n",
      "\t# return the files in the recent 3 days\n",
      "\tnow = int(time.time())\n",
      "\tday3 = now - 3*24*3600\n",
      "\tday2 = now - 2*24*3600\n",
      "\tday1 = now - 1*24*3600\n",
      "\tprefix0 = datetime.fromtimestamp(now).strftime('%Y%m%d')\n",
      "\tprefix1 = datetime.fromtimestamp(day1).strftime('%Y%m%d')\n",
      "\tprefix2 = datetime.fromtimestamp(day2).strftime('%Y%m%d')\n",
      "\tprefix3 = datetime.fromtimestamp(day3).strftime('%Y%m%d_%H')\n",
      "\tfilelist = [prefix0, prefix1, prefix2]\n",
      "\tcurrent, end3 = prefix3, prefix3[:-2] +'23'\n",
      "\twhile current <= end3:\n",
      "\t\tfilelist.append(current)\n",
      "\t\tcurrent = current[:-2] + str(int(current[-2:])+1)\n",
      "\treturn filelist"
     ],
     "language": "python",
     "metadata": {},
     "outputs": [],
     "prompt_number": 6
    },
    {
     "cell_type": "code",
     "collapsed": false,
     "input": [
      "files_to_read()"
     ],
     "language": "python",
     "metadata": {},
     "outputs": [
      {
       "metadata": {},
       "output_type": "pyout",
       "prompt_number": 7,
       "text": [
        "['20150203',\n",
        " '20150202',\n",
        " '20150201',\n",
        " '20150131_14',\n",
        " '20150131_15',\n",
        " '20150131_16',\n",
        " '20150131_17',\n",
        " '20150131_18',\n",
        " '20150131_19',\n",
        " '20150131_20',\n",
        " '20150131_21',\n",
        " '20150131_22',\n",
        " '20150131_23']"
       ]
      }
     ],
     "prompt_number": 7
    },
    {
     "cell_type": "code",
     "collapsed": false,
     "input": [],
     "language": "python",
     "metadata": {},
     "outputs": []
    }
   ],
   "metadata": {}
  }
 ]
}
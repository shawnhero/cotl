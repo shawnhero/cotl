{
 "metadata": {
  "name": "",
  "signature": "sha256:ffa4ad1d0e3abca7f8467faae30eb6d1d0205fc67eef253a56d8dffd7e477b01"
 },
 "nbformat": 3,
 "nbformat_minor": 0,
 "worksheets": []
}